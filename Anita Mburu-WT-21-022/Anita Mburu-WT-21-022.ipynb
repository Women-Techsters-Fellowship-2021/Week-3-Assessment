{
 "cells": [
  {
   "cell_type": "code",
   "execution_count": 1,
   "id": "939964c3",
   "metadata": {},
   "outputs": [
    {
     "name": "stdout",
     "output_type": "stream",
     "text": [
      "Enter First name : Esther\n",
      "Enter Last name :Anagu\n",
      "Male or Female: Female\n",
      "Enter mobilenumber: 09086\n",
      "Welcome Esther Anagu\n",
      "What is your complaint?dggrdss\n",
      "Esther Anagu says dggrdss\n",
      "Current date and time:  2021-06-29 23:44:51.771024\n",
      "========================================================\n",
      "Welcome Team\n",
      "Esther Anagu says dggrdss\n",
      "{\"data\":{\"translations\":[{\"translatedText\":\"{imprimer (prénom, nom, &quot;dit&quot;, message&quot;)\"}]}}\n",
      "========================================================\n",
      "{\"data\":{\"detections\":[[{\"confidence\":1,\"language\":\"en\",\"isReliable\":false}]]}}\n"
     ]
    }
   ],
   "source": [
    "#Create a Complaint Management System for the customer\n",
    "\n",
    "firstname = input(\"Enter First name : \")\n",
    "lastname = input(\"Enter Last name :\" )\n",
    "gender = input(\"Male or Female: \")\n",
    "mobilenumber = input(\"Enter mobilenumber: \")     \n",
    "print(\"Welcome\", firstname, lastname,)\n",
    "message = input (\"What is your complaint?\")\n",
    "complain_bank = {print (firstname, lastname, \"says\", message)}\n",
    "\n",
    "import time \n",
    "import datetime\n",
    "print(\"Current date and time: \", datetime.datetime.now())\n",
    "print('========================================================')\n",
    "\n",
    "#Create a Complaint Management System for the Team \n",
    "\n",
    "print ('Welcome Team')\n",
    "complain_bank = {print (firstname, lastname, \"says\", message)}\n",
    "\n",
    "#Create a system to translate from english to french \n",
    "\n",
    "import requests\n",
    "\n",
    "url = \"https://google-translate1.p.rapidapi.com/language/translate/v2\"\n",
    "\n",
    "payload = \"q=%7Bprint%20(firstname%2C%20lastname%2C%20%22says%22%2C%20message%22)&target=fr&source=en\"\n",
    "headers = {\n",
    "    'content-type': \"application/x-www-form-urlencoded\",\n",
    "    'accept-encoding': \"application/gzip\",\n",
    "    'x-rapidapi-key': \"dacaae5850mshbcab4ca9a7b2a4dp13a15bjsnd9aaa23a2ee4\",\n",
    "    'x-rapidapi-host': \"google-translate1.p.rapidapi.com\"\n",
    "    }\n",
    "\n",
    "response = requests.request(\"POST\", url, data=payload, headers=headers)\n",
    "\n",
    "print(response.text)\n",
    "\n",
    "#Create a system to detect the language used in complaint text\n",
    "\n",
    "print('========================================================')\n",
    "\n",
    "import requests\n",
    "\n",
    "url = \"https://google-translate1.p.rapidapi.com/language/translate/v2/detect\"\n",
    "\n",
    "payload = \"q=English%20is%20hard%2C%20but%20detectably%20so\"\n",
    "headers = {\n",
    "    'content-type': \"application/x-www-form-urlencoded\",\n",
    "    'accept-encoding': \"application/gzip\",\n",
    "    'x-rapidapi-key': \"dacaae5850mshbcab4ca9a7b2a4dp13a15bjsnd9aaa23a2ee4\",\n",
    "    'x-rapidapi-host': \"google-translate1.p.rapidapi.com\"\n",
    "    }\n",
    "\n",
    "response = requests.request(\"POST\", url, data=payload, headers=headers)\n",
    "\n",
    "print(response.text)"
   ]
  },
  {
   "cell_type": "code",
   "execution_count": null,
   "id": "a98a440f",
   "metadata": {},
   "outputs": [],
   "source": []
  }
 ],
 "metadata": {
  "kernelspec": {
   "display_name": "Python 3",
   "language": "python",
   "name": "python3"
  },
  "language_info": {
   "codemirror_mode": {
    "name": "ipython",
    "version": 3
   },
   "file_extension": ".py",
   "mimetype": "text/x-python",
   "name": "python",
   "nbconvert_exporter": "python",
   "pygments_lexer": "ipython3",
   "version": "3.8.8"
  }
 },
 "nbformat": 4,
 "nbformat_minor": 5
}
