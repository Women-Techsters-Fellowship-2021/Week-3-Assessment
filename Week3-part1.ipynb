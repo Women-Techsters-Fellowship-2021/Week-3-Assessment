{
 "cells": [
  {
   "cell_type": "code",
   "execution_count": 6,
   "metadata": {},
   "outputs": [
    {
     "name": "stdout",
     "output_type": "stream",
     "text": [
      "Bienvenue client\n",
      "Tu as un complaint? \n",
      "Oui\n",
      "write your complaint: \n",
      "Je ne suis pas comprends vous\n",
      "Avez-vous une autre plainte? Oui au NonOui\n",
      "write your complaint? \n",
      "Tu es malade\n",
      "Avez-vous une autre plainte? Oui au Non \n",
      "Oui\n",
      "write your complaint? \n",
      "Aussi avec votre travaillers\n",
      "Avez-vous une autre plainte? Oui au Non \n",
      "Non\n",
      "we have received your submission(s).\n"
     ]
    }
   ],
   "source": [
    "welcomMessage = \"Bienvenue client\"\n",
    "print(welcomMessage) # welcoming the french customer\n",
    "choiceA = \"Oui\"\n",
    "genComplaints = [] # creating an empty list - as a receiver for customer complaints\n",
    "entryQuest = input(\"Tu as un complaint? \\n\" ) # asking the customer if they have a complaint\n",
    "if entryQuest == choiceA:\n",
    "    compl = input(\"write your complaint: \\n\" ) # asking the customer to submit the complaint\n",
    "    genComplaints.append(compl) # appending the customer's complaint to the list\n",
    "    \n",
    "    verify = input(\"Avez-vous une autre plainte? Oui au Non \\n\") # verify if they have another complaint\n",
    "   \n",
    "    while verify == choiceA:  # setting a boolean condition to the while loop\n",
    "        compl = input(\"write your complaint? \\n\") # asking the customer to submit the complaint\n",
    "        genComplaints.append(compl) # appending the customer's complaint to the list\n",
    "        verify = input(\"Avez-vous une autre plainte? Oui au Non \\n\")\n",
    "print(\"we have received your submission(s).\")"
   ]
  },
  {
   "cell_type": "code",
   "execution_count": 15,
   "metadata": {},
   "outputs": [
    {
     "name": "stdout",
     "output_type": "stream",
     "text": [
      "Bienvenue client\n",
      "S'il tu plait, quelle est ton nom? \n",
      "Jason\n",
      "Tu as un complaint? Entrez Oui a Non \n",
      " Oui\n",
      "write your complaint: \n",
      "Mon nom n'est pas jason\n",
      "Avez-vous une autre plainte? Oui a Non \n",
      "Oui\n",
      "write your complaint? \n",
      "Tu complainte machine est difficile\n",
      "Avez-vous une autre plainte? Oui au Non \n",
      "Votre autre chose\n",
      "we have received your submission(s).\n"
     ]
    }
   ],
   "source": [
    "import json\n",
    "welcomMessage1 = \"Bienvenue client \\n\"\n",
    "print(welcomMessage) # welcoming the french customer\n",
    "choiceA = \"Oui\"\n",
    "genComplaints = {\"Name\":[], \"Complaint\":[]} # creating an empty dictionary - as a receiver for customer complaints\n",
    "\n",
    "entryQuestA = input(\"S'il tu plait, quelle est ton nom? \\n\") #asking the customer for their name\n",
    "entryQuestB = input(\"Tu as un complaint? Entrez Oui a Non \\n \"  ) # asking the customer if they have a complaint\n",
    "if entryQuestB == choiceA:\n",
    "    compl1 = input(\"write your complaint: \\n\" ) # asking the customer to submit the complaint\n",
    "    genComplaints[\"Name\"].append(entryQuestA) # appending the customer's name to the dictionary\n",
    "    genComplaints[\"Complaint\"].append(compl1) # appending the customer's complaint to the dictionary\n",
    "    \n",
    "    verify = input(\"Avez-vous une autre plainte? Oui a Non \\n\") # verify if they have another complaint\n",
    "    \n",
    "    while verify == choiceA:  # setting a boolean condition to the while loop\n",
    "        compl2 = input(\"write your complaint? \\n\") # asking the customer to submit the complaint\n",
    "        genComplaints[\"Name\"].append(entryQuestA) # appending the customer's name to the dictionary\n",
    "        genComplaints[\"Complaint\"].append(compl2) # appending the customer's complaint to the dictionary\n",
    "        verify = input(\"Avez-vous une autre plainte? Oui au Non \\n\")\n",
    "print(\"we have received your submission(s).\")"
   ]
  },
  {
   "cell_type": "code",
   "execution_count": 16,
   "metadata": {},
   "outputs": [
    {
     "name": "stdout",
     "output_type": "stream",
     "text": [
      "{'Name': ['Jason', 'Jason'], 'Complaint': [\"Mon nom n'est pas jason\", 'Tu complainte machine est difficile']}\n"
     ]
    }
   ],
   "source": [
    "print(genComplaints)"
   ]
  },
  {
   "cell_type": "code",
   "execution_count": 44,
   "metadata": {},
   "outputs": [],
   "source": [
    "import requests             # importing the library for making requests and working with APIs\n",
    "import json                 # importing the json library"
   ]
  },
  {
   "cell_type": "code",
   "execution_count": 49,
   "metadata": {},
   "outputs": [
    {
     "ename": "TypeError",
     "evalue": "'CaseInsensitiveDict' object is not callable",
     "output_type": "error",
     "traceback": [
      "\u001b[1;31m---------------------------------------------------------------------------\u001b[0m",
      "\u001b[1;31mTypeError\u001b[0m                                 Traceback (most recent call last)",
      "\u001b[1;32m<ipython-input-49-b83c3d27b340>\u001b[0m in \u001b[0;36m<module>\u001b[1;34m\u001b[0m\n\u001b[0;32m      6\u001b[0m     \u001b[1;34m\"x-rapidapi-key\"\u001b[0m\u001b[1;33m:\u001b[0m \u001b[1;34m\"SIGN-UP-FOR-KEY\"\u001b[0m\u001b[1;33m,\u001b[0m\u001b[1;33m\u001b[0m\u001b[1;33m\u001b[0m\u001b[0m\n\u001b[0;32m      7\u001b[0m     \u001b[1;34m\"x-rapidapi-host\"\u001b[0m\u001b[1;33m:\u001b[0m \u001b[1;34m\"google-translate1.p.rapidapi.com\"\u001b[0m\u001b[1;33m,\u001b[0m\u001b[1;33m\u001b[0m\u001b[1;33m\u001b[0m\u001b[0m\n\u001b[1;32m----> 8\u001b[1;33m     \u001b[1;34m\"usequerystring\"\u001b[0m\u001b[1;33m:\u001b[0m \u001b[1;32mTrue\u001b[0m\u001b[1;33m\u001b[0m\u001b[1;33m\u001b[0m\u001b[0m\n\u001b[0m\u001b[0;32m      9\u001b[0m });\n\u001b[0;32m     10\u001b[0m \u001b[1;33m\u001b[0m\u001b[0m\n",
      "\u001b[1;31mTypeError\u001b[0m: 'CaseInsensitiveDict' object is not callable"
     ]
    }
   ],
   "source": [
    "unirest = require(\"unirest\");\n",
    "\n",
    "req = requests.request(\"POST\", \"https://google-translate1.p.rapidapi.com/language/translate/v2\");\n",
    "\n",
    "req.headers({\n",
    "    \"content-type\": \"application/x-www-form-urlencoded\",\n",
    "    \"accept-encoding\": \"application/gzip\",\n",
    "    \"x-rapidapi-key\": \"SIGN-UP-FOR-KEY\",\n",
    "    \"x-rapidapi-host\": \"google-translate1.p.rapidapi.com\",\n",
    "    \"useQueryString\": True\n",
    "});\n",
    "\n",
    "req.form({\n",
    "    \"q\": \"Hello, world!\",\n",
    "    \"target\": \"es\",\n",
    "    \"source\": \"en\"\n",
    "});\n",
    "\n"
   ]
  },
  {
   "cell_type": "code",
   "execution_count": 35,
   "metadata": {},
   "outputs": [],
   "source": [
    "url = \"https://rapidapi.com/googlecloud/api/google-translate1\"\n",
    "payload = \"q-Hello%2C%20world!&target=es&source=en\"\n",
    "headers = {\n",
    "    \"content-type\": \"application/x-www-form-urlencoded\",\n",
    "    \"accept-encoding\": \"application/gzip\",\n",
    "    \"x-rapidapi-key\": \"dacaae5850mshbcab4ca9a7b2a4dp13a15bjsnd9aaa23a2ee4\",\n",
    "    \"x-rapidapi-host\": \"google-translate1.p.rapidapi.com\",\n",
    "        }\n",
    "response1  = requests.request(\"POST\", url,)\n",
    "response = requests.get(\"https://rapidapi.com/googlecloud/api/google-translate1\")"
   ]
  },
  {
   "cell_type": "code",
   "execution_count": 37,
   "metadata": {},
   "outputs": [
    {
     "name": "stdout",
     "output_type": "stream",
     "text": [
      "200\n"
     ]
    }
   ],
   "source": [
    "print(response.status_code)    # additional resource help - https://www.dataquest.io/blog/python-api-tutorial/"
   ]
  }
 ],
 "metadata": {
  "kernelspec": {
   "display_name": "Python 3",
   "language": "python",
   "name": "python3"
  },
  "language_info": {
   "codemirror_mode": {
    "name": "ipython",
    "version": 3
   },
   "file_extension": ".py",
   "mimetype": "text/x-python",
   "name": "python",
   "nbconvert_exporter": "python",
   "pygments_lexer": "ipython3",
   "version": "3.7.6"
  }
 },
 "nbformat": 4,
 "nbformat_minor": 4
}
